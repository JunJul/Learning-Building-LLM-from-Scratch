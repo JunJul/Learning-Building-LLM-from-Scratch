{
 "cells": [
  {
   "cell_type": "markdown",
   "metadata": {},
   "source": [
    "# Configuration of a small GPT2"
   ]
  },
  {
   "cell_type": "code",
   "execution_count": 1,
   "metadata": {},
   "outputs": [],
   "source": [
    "# vocab_size \n",
    "#   refers to a vocabulary of 50,257 words, as used by the BPE tokenizer (see chapter 2).\n",
    "\n",
    "# context_length \n",
    "#   denotes the maximum number of input tokens the model can handle  via the positional embeddings \n",
    "#   (see chapter 2).\n",
    "\n",
    "# emb_dim \n",
    "#   represents the embedding size, transforming each token into a 768-dimensional vector.\n",
    "\n",
    "# n_heads \n",
    "#   indicates the count of attention heads in the multi-head attention mechanism (see chapter 3).\n",
    "\n",
    "# n_layers \n",
    "#   specifies the number of transformer blocks in the model, \n",
    "#   which we will cover in the upcoming discussion.\n",
    "\n",
    "# drop_rate \n",
    "#   indicates the intensity of the dropout mechanism \n",
    "#   (0.1 implies a 10% random drop out of hidden units) to prevent overfitting (see chapter 3).\n",
    "\n",
    "# qkv_bias \n",
    "#   determines whether to include a bias vector in the Linear layers of the multi-head attention \n",
    "#   for query, key, and value computations. We will initially disable this, \n",
    "#   following the norms of modern LLMs, but we will revisit it in chapter 6 when \n",
    "#   we load pretrained GPT-2 weights from OpenAI into our model (see chapter 6).\n",
    "\n",
    "GPT_CONFIG_124M = {\n",
    "    \"vocab_size\": 50257,     # Vocabulary size\n",
    "    \"context_length\": 1024,  # Context length\n",
    "    \"emb_dim\": 768,          # Embedding dimension\n",
    "    \"n_heads\": 12,           # Number of attention heads\n",
    "    \"n_layers\": 12,          # Number of layers\n",
    "    \"drop_rate\": 0.1,        # Dropout rate\n",
    "    \"qkv_bias\": False        # Query-Key-Value bias\n",
    "}"
   ]
  },
  {
   "cell_type": "markdown",
   "metadata": {},
   "source": [
    "# A placeholder GPT model architecture class"
   ]
  },
  {
   "cell_type": "code",
   "execution_count": 2,
   "metadata": {},
   "outputs": [],
   "source": [
    "import torch\n",
    "import torch.nn as nn"
   ]
  },
  {
   "cell_type": "code",
   "execution_count": 3,
   "metadata": {},
   "outputs": [],
   "source": [
    "#1 Uses a placeholder for TransformerBlock\n",
    "\n",
    "#2 Uses a placeholder for LayerNorm\n",
    "\n",
    "#3 A simple placeholder class that will be replaced by a real TransformerBlock later\n",
    "\n",
    "#4 This block does nothing and just returns its input\n",
    "\n",
    "#5 A simple placeholder class that will be replaced by a real LayerNorm later\n",
    "\n",
    "#6 The parameters here are just to mimic the LayerNorm interface\n",
    "\n",
    "class DummyGPTModel(nn.Module):\n",
    "    def __init__(self, cfg):\n",
    "        super().__init__()\n",
    "        self.tok_emb = nn.Embedding(cfg[\"vocab_szie\"], cfg[\"embd_dim\"])\n",
    "        self.pos_emb = nn.Embedding(cfg[\"context_length\"], cfg[\"emb_dim\"])\n",
    "        self.drop_emb = nn.Dropout(cfg[\"drop_rate\"])\n",
    "        self.trf_blocks = nn.Sequential(            # 1\n",
    "            *[DummyTransformerBlock(cfg) \n",
    "              for _ in range(cfg[\"n_layers\"])]\n",
    "        )\n",
    "\n",
    "        self.final_norm = DummyLayerNorm(cfg[\"emb_dim\"])    # 2\n",
    "        self.out_head = nn.Linear(\n",
    "            cfg[\"emb_dim\"], cfg[\"vocab_size\"], bias=False\n",
    "        )\n",
    "    \n",
    "    def forward(self, in_idx):\n",
    "        batch_size, seq_len = in_idx.shape\n",
    "        tok_embeds = self.tok_emb(in_idx)\n",
    "        pos_embeds = self.pos_emb(\n",
    "            torch.arange(seq_len, device = in_idx.device)\n",
    "        )\n",
    "\n",
    "        x = tok_embeds + pos_embeds\n",
    "        x = self.drop_emb(x)\n",
    "        x = self.trf_blocks(x)\n",
    "        x = self.final_norm(x)\n",
    "        logits = self.out_head(x)\n",
    "\n",
    "        return logits\n",
    "\n",
    "class DummyTransformerBlock(nn.Module): # 3\n",
    "    def __init__(self, cfg):\n",
    "        super().__init__()\n",
    "    \n",
    "    def forward(self, x):   # 4\n",
    "        return x\n",
    "    \n",
    "class DummyLayerNorm(nn.Module): # 5\n",
    "    def __init__(self, normalized_shape, eps = 1e-5): # 6\n",
    "        super().__init__()\n",
    "    \n",
    "    def forward(self, x):\n",
    "        return x"
   ]
  },
  {
   "cell_type": "code",
   "execution_count": null,
   "metadata": {},
   "outputs": [],
   "source": []
  },
  {
   "cell_type": "code",
   "execution_count": null,
   "metadata": {},
   "outputs": [],
   "source": []
  },
  {
   "cell_type": "code",
   "execution_count": null,
   "metadata": {},
   "outputs": [],
   "source": []
  },
  {
   "cell_type": "code",
   "execution_count": null,
   "metadata": {},
   "outputs": [],
   "source": []
  }
 ],
 "metadata": {
  "kernelspec": {
   "display_name": "base",
   "language": "python",
   "name": "python3"
  },
  "language_info": {
   "codemirror_mode": {
    "name": "ipython",
    "version": 3
   },
   "file_extension": ".py",
   "mimetype": "text/x-python",
   "name": "python",
   "nbconvert_exporter": "python",
   "pygments_lexer": "ipython3",
   "version": "3.10.13"
  }
 },
 "nbformat": 4,
 "nbformat_minor": 2
}
